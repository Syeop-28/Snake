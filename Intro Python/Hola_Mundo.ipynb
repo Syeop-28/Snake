{
 "cells": [
  {
   "cell_type": "markdown",
   "metadata": {},
   "source": [
    "# Hola Mundo"
   ]
  },
  {
   "cell_type": "markdown",
   "metadata": {},
   "source": [
    "<img src=\"img/alarma.jpg\" width=600>"
   ]
  },
  {
   "cell_type": "markdown",
   "metadata": {},
   "source": [
    "# Primeros pasos"
   ]
  },
  {
   "cell_type": "markdown",
   "metadata": {},
   "source": [
    "<img src=\"img/step.png\" width=\"800\">"
   ]
  },
  {
   "cell_type": "code",
   "execution_count": 13,
   "metadata": {},
   "outputs": [
    {
     "name": "stdout",
     "output_type": "stream",
     "text": [
      "Hola Mundo!\n"
     ]
    }
   ],
   "source": [
    "# Imprimir un mensaje en pantalla solo necesita la función print()\n",
    "print(\"Hola Mundo!\")"
   ]
  },
  {
   "cell_type": "code",
   "execution_count": 14,
   "metadata": {},
   "outputs": [
    {
     "data": {
      "text/plain": [
       "'Edgar Avalos Gauna'"
      ]
     },
     "execution_count": 14,
     "metadata": {},
     "output_type": "execute_result"
    }
   ],
   "source": [
    "# Cualquier mensaje de texto debe ser escrito usando comillas\n",
    "\"Edgar Avalos Gauna\""
   ]
  },
  {
   "cell_type": "code",
   "execution_count": 15,
   "metadata": {},
   "outputs": [
    {
     "data": {
      "text/plain": [
       "str"
      ]
     },
     "execution_count": 15,
     "metadata": {},
     "output_type": "execute_result"
    }
   ],
   "source": [
    "# El método type nos muestra como efectivamente todo lo que este entre comillas\n",
    "# representa texto\n",
    "\n",
    "type(\"Texto\")"
   ]
  },
  {
   "cell_type": "code",
   "execution_count": 16,
   "metadata": {},
   "outputs": [
    {
     "data": {
      "text/plain": [
       "str"
      ]
     },
     "execution_count": 16,
     "metadata": {},
     "output_type": "execute_result"
    }
   ],
   "source": [
    "# Podemos almacenar texto dentro de una variable, y de igual modo seguira siendo str\n",
    "nombre=\"Edgar Avalos Gauna\"\n",
    "type(nombre)"
   ]
  },
  {
   "cell_type": "markdown",
   "metadata": {},
   "source": [
    "### Tipos de variables en Python:"
   ]
  },
  {
   "cell_type": "code",
   "execution_count": null,
   "metadata": {},
   "outputs": [],
   "source": [
    "# Variable tipo int quiere decir número sin decimales\n",
    "entero=3\n",
    "# Variable tipo float, quiere decir número con decimales\n",
    "flotante=3.1416\n",
    "# Variable tipo string, quiere decir texto\n",
    "string=\"Es una variable de texto\""
   ]
  },
  {
   "cell_type": "code",
   "execution_count": 21,
   "metadata": {
    "scrolled": true
   },
   "outputs": [
    {
     "data": {
      "text/plain": [
       "str"
      ]
     },
     "execution_count": 21,
     "metadata": {},
     "output_type": "execute_result"
    }
   ],
   "source": [
    "type(string)"
   ]
  },
  {
   "cell_type": "markdown",
   "metadata": {},
   "source": [
    "### Concatenación:"
   ]
  },
  {
   "cell_type": "code",
   "execution_count": 24,
   "metadata": {},
   "outputs": [
    {
     "name": "stdout",
     "output_type": "stream",
     "text": [
      "Juntando 2 textos\n"
     ]
    }
   ],
   "source": [
    "# Concatenación es juntar textos, o juntar texto con variables\n",
    "print(\"Juntando \" + \"2 textos\")"
   ]
  },
  {
   "cell_type": "code",
   "execution_count": null,
   "metadata": {},
   "outputs": [],
   "source": [
    "print(entero)"
   ]
  },
  {
   "cell_type": "code",
   "execution_count": null,
   "metadata": {},
   "outputs": [],
   "source": [
    "nombre=\"Edgar Avalos Gauna\""
   ]
  },
  {
   "cell_type": "code",
   "execution_count": null,
   "metadata": {},
   "outputs": [],
   "source": [
    "print(nombre)"
   ]
  },
  {
   "cell_type": "code",
   "execution_count": null,
   "metadata": {},
   "outputs": [],
   "source": [
    "print(type(nombre))"
   ]
  },
  {
   "cell_type": "code",
   "execution_count": 25,
   "metadata": {},
   "outputs": [
    {
     "name": "stdout",
     "output_type": "stream",
     "text": [
      "Variable flotante= 3.1416\n"
     ]
    }
   ],
   "source": [
    "# Para juntar texto con un número, hay que usar la función str()\n",
    "print(\"Variable flotante= \" + str(flotante))"
   ]
  },
  {
   "cell_type": "code",
   "execution_count": null,
   "metadata": {},
   "outputs": [],
   "source": [
    "print(nombre+str(entero))"
   ]
  },
  {
   "cell_type": "code",
   "execution_count": null,
   "metadata": {},
   "outputs": [],
   "source": [
    "# Otra forma de concatenar es mediante el uso de comas en lugar del signo +\n",
    "print(nombre,str(entero),str(flotante))"
   ]
  },
  {
   "cell_type": "code",
   "execution_count": null,
   "metadata": {},
   "outputs": [],
   "source": [
    "print(\"Edgar\",\"Avalos\")"
   ]
  },
  {
   "cell_type": "markdown",
   "metadata": {},
   "source": [
    "## Tipo de errores en Python"
   ]
  },
  {
   "cell_type": "markdown",
   "metadata": {},
   "source": [
    "Los errores más comunes son las siguientes:\n",
    "\n",
    "\n",
    "* **ImportError**: Error al realizar una importación de una librería o modulo.\n",
    "\n",
    "* **IndexError**: Se trata de acceder a un indice fuera de rango en una lista o tupla.\n",
    "\n",
    "* **KeyError**: Se trata de acceder a una llave que no existe en un diccionario.\n",
    "\n",
    "* **NameError**: Se trata de utilizar una variable no declarada.\n",
    "\n",
    "* **SyntaxError**: La sintaxis no corresponde a las reglas del lenguaje.\n",
    "\n",
    "* **TypeError**: Se trata de llamar a una función utilizando argumentos de tipo que no corresponden.\n",
    "\n",
    "* **ValueError**: Se trata de llamar a una función utilizando argumentos de tipo correcto pero valor erroneo.\n",
    "\n",
    "* **IdentationError**: Se ha creado un bloque de control, pero sin respetar la identación del mismo."
   ]
  },
  {
   "cell_type": "markdown",
   "metadata": {},
   "source": [
    "## Imprimir y lectura de datos en pantalla"
   ]
  },
  {
   "cell_type": "markdown",
   "metadata": {},
   "source": [
    "Para leer datos solicitados mediante un programa a un usuario se utiliza la función **input()**"
   ]
  },
  {
   "cell_type": "code",
   "execution_count": 27,
   "metadata": {},
   "outputs": [
    {
     "name": "stdout",
     "output_type": "stream",
     "text": [
      "Dame tu edad:33\n"
     ]
    }
   ],
   "source": [
    "edad=input(\"Dame tu edad:\")"
   ]
  },
  {
   "cell_type": "code",
   "execution_count": 28,
   "metadata": {},
   "outputs": [
    {
     "name": "stdout",
     "output_type": "stream",
     "text": [
      "33\n"
     ]
    }
   ],
   "source": [
    "print(edad)"
   ]
  },
  {
   "cell_type": "code",
   "execution_count": 29,
   "metadata": {},
   "outputs": [
    {
     "data": {
      "text/plain": [
       "str"
      ]
     },
     "execution_count": 29,
     "metadata": {},
     "output_type": "execute_result"
    }
   ],
   "source": [
    "# SIEMPRE que se pida información por medio de un input(), Python la recibirá como str\n",
    "type(edad)"
   ]
  },
  {
   "cell_type": "code",
   "execution_count": null,
   "metadata": {},
   "outputs": [],
   "source": [
    "# Para convertir un dato recibido por un input() a número, se usa la función int() o float()\n",
    "# dependiendo el valor a manejar:\n",
    "\n",
    "int(edad)/3"
   ]
  },
  {
   "cell_type": "code",
   "execution_count": null,
   "metadata": {},
   "outputs": [],
   "source": [
    "mes=input(\"Dame el mes de tu cumpleaños:\")"
   ]
  },
  {
   "cell_type": "code",
   "execution_count": null,
   "metadata": {},
   "outputs": [],
   "source": [
    "# Concatenando edad y mes\n",
    "print(\"Tu edad es:\", edad, \"y naciste en\", mes)"
   ]
  },
  {
   "cell_type": "code",
   "execution_count": null,
   "metadata": {},
   "outputs": [],
   "source": [
    "type(edad)"
   ]
  },
  {
   "cell_type": "markdown",
   "metadata": {},
   "source": [
    "## Operaciones y operadores básicos"
   ]
  },
  {
   "cell_type": "code",
   "execution_count": null,
   "metadata": {},
   "outputs": [],
   "source": [
    "# Sumando valores en Python\n",
    "\n",
    "3+5"
   ]
  },
  {
   "cell_type": "code",
   "execution_count": null,
   "metadata": {},
   "outputs": [],
   "source": [
    "# Resta\n",
    "\n",
    "5-1"
   ]
  },
  {
   "cell_type": "code",
   "execution_count": null,
   "metadata": {},
   "outputs": [],
   "source": [
    "# División \n",
    "9/3"
   ]
  },
  {
   "cell_type": "code",
   "execution_count": null,
   "metadata": {},
   "outputs": [],
   "source": [
    "# División entera\n",
    "\n",
    "7//2"
   ]
  },
  {
   "cell_type": "code",
   "execution_count": null,
   "metadata": {},
   "outputs": [],
   "source": [
    "# Obteniendo el residuo\n",
    "\n",
    "7%2"
   ]
  },
  {
   "cell_type": "code",
   "execution_count": null,
   "metadata": {},
   "outputs": [],
   "source": [
    "# Potencia\n",
    "\n",
    "3**2"
   ]
  },
  {
   "cell_type": "code",
   "execution_count": null,
   "metadata": {},
   "outputs": [],
   "source": [
    "# Raíz\n",
    "\n",
    "81**0.5"
   ]
  },
  {
   "cell_type": "markdown",
   "metadata": {},
   "source": [
    "### Operadores lógicos"
   ]
  },
  {
   "cell_type": "code",
   "execution_count": null,
   "metadata": {},
   "outputs": [],
   "source": [
    "print(5>3)"
   ]
  },
  {
   "cell_type": "code",
   "execution_count": null,
   "metadata": {},
   "outputs": [],
   "source": [
    "print(5>3 and 5<10)"
   ]
  },
  {
   "cell_type": "code",
   "execution_count": null,
   "metadata": {},
   "outputs": [],
   "source": [
    "print(7>3 or 7<10)"
   ]
  },
  {
   "cell_type": "code",
   "execution_count": null,
   "metadata": {},
   "outputs": [],
   "source": [
    "print(5==3)"
   ]
  },
  {
   "cell_type": "code",
   "execution_count": null,
   "metadata": {},
   "outputs": [],
   "source": [
    "print(5!=3)"
   ]
  },
  {
   "cell_type": "markdown",
   "metadata": {},
   "source": [
    "* $+$ operador para suma\n",
    "\n",
    "* $-$ operador para resta\n",
    "\n",
    "* $*$ operador para multiplicación\n",
    "\n",
    "* $**$ operador para potencia o raíz\n",
    "\n",
    "* $==$ operador para comparar igualdad\n",
    "\n",
    "* $!=$ operador para comparar diferencia"
   ]
  },
  {
   "cell_type": "markdown",
   "metadata": {},
   "source": [
    "## Estructura de datos"
   ]
  },
  {
   "cell_type": "code",
   "execution_count": null,
   "metadata": {},
   "outputs": [],
   "source": [
    "# Estructuras de datos\n",
    "# Simbolos de agrupación\n",
    "\n",
    "# Creando listas\n",
    "frutas=[\"Manzanas\", \"Peras\", \"Platanos\", \"Uvas\"]\n",
    "\n",
    "# Creando tuplas\n",
    "puntos_cardinales=(\"Norte\", \"Sur\", \"Este, \"Oeste\")\n",
    "\n",
    "# Creando diccionarios\n",
    "diccionarios={\"a\":frutas,\n",
    "              \"b\":puntos_cardinales,\n",
    "              \"c\":entero,\n",
    "              \"d\":flotante,\n",
    "              \"e\":texto}"
   ]
  },
  {
   "cell_type": "markdown",
   "metadata": {},
   "source": [
    "En Jupyter notebook, podemos usar una celda para varias operaciones como se mostro arriba, o podemos separar las operaciones en celdas separadas como se muestra abajo, el resultado es el mismo:"
   ]
  },
  {
   "cell_type": "code",
   "execution_count": 38,
   "metadata": {},
   "outputs": [],
   "source": [
    "frutas=[\"Manzanas\", \"Peras\", \"Platanos\", \"Uvas\"]"
   ]
  },
  {
   "cell_type": "code",
   "execution_count": null,
   "metadata": {},
   "outputs": [],
   "source": [
    "puntos_cardinales=(\"Norte\", \"Sur\", \"Este\", \"Oeste\")"
   ]
  },
  {
   "cell_type": "code",
   "execution_count": null,
   "metadata": {},
   "outputs": [],
   "source": [
    "diccionarios={\"a\":frutas,\n",
    "              \"b\":puntos_cardinales,\n",
    "              \"c\":entero,\n",
    "              \"d\":flotante,\n",
    "              \"e\":texto}"
   ]
  },
  {
   "cell_type": "code",
   "execution_count": null,
   "metadata": {},
   "outputs": [],
   "source": [
    "print(frutas)"
   ]
  },
  {
   "cell_type": "code",
   "execution_count": null,
   "metadata": {},
   "outputs": [],
   "source": [
    "print(puntos_cardinales)"
   ]
  },
  {
   "cell_type": "code",
   "execution_count": null,
   "metadata": {},
   "outputs": [],
   "source": [
    "type(frutas)"
   ]
  },
  {
   "cell_type": "code",
   "execution_count": null,
   "metadata": {},
   "outputs": [],
   "source": [
    "type(puntos_cardinales)"
   ]
  },
  {
   "cell_type": "code",
   "execution_count": null,
   "metadata": {
    "scrolled": false
   },
   "outputs": [],
   "source": [
    "print(diccionarios)"
   ]
  },
  {
   "cell_type": "code",
   "execution_count": null,
   "metadata": {},
   "outputs": [],
   "source": [
    "# La ventaja de las listas, es que podemos seguir agregando elementos en ellas las veces que queramos.\n",
    "# esto se logra mediante el uso del método append()\n",
    "\n",
    "frutas.append(\"Magos\")\n",
    "print(frutas)"
   ]
  },
  {
   "cell_type": "code",
   "execution_count": null,
   "metadata": {},
   "outputs": [],
   "source": [
    "frutas.append(\"Melones\")"
   ]
  },
  {
   "cell_type": "code",
   "execution_count": null,
   "metadata": {},
   "outputs": [],
   "source": [
    "frutas"
   ]
  },
  {
   "cell_type": "code",
   "execution_count": null,
   "metadata": {},
   "outputs": [],
   "source": [
    "frutas.append(\"plátanos\")"
   ]
  },
  {
   "cell_type": "code",
   "execution_count": null,
   "metadata": {},
   "outputs": [],
   "source": [
    "frutas"
   ]
  },
  {
   "cell_type": "markdown",
   "metadata": {},
   "source": [
    "## Slice"
   ]
  },
  {
   "cell_type": "markdown",
   "metadata": {},
   "source": [
    "La técnica del slice, implica tomar porciones de arreglos de datos. Podemos tomar 1 solo elemento o varios elementos a la vez. Los arreglos de datos pueden ser listas, tuplas, strings:"
   ]
  },
  {
   "cell_type": "code",
   "execution_count": 32,
   "metadata": {},
   "outputs": [
    {
     "data": {
      "text/plain": [
       "'E'"
      ]
     },
     "execution_count": 32,
     "metadata": {},
     "output_type": "execute_result"
    }
   ],
   "source": [
    "# Para usar la técnica del Slice, solo hace falta poner corchetes al lado de la estructura de datos,\n",
    "# y poner el número indexado del elemento a sustraer:\n",
    "\n",
    "pangrama=\"El veloz murciélago hindú comía feliz cardillo y kiwi. La cigüeña tocaba el saxofón detrás del palenque de paja\"\n",
    "pangrama[0]"
   ]
  },
  {
   "cell_type": "code",
   "execution_count": 34,
   "metadata": {},
   "outputs": [
    {
     "data": {
      "text/plain": [
       "'v'"
      ]
     },
     "execution_count": 34,
     "metadata": {},
     "output_type": "execute_result"
    }
   ],
   "source": [
    "# Recuerda que en la numeración indexada, se empieza a contar en cero, por lo que si se pide el index 3,\n",
    "# corresponde a pedir la cuarta letra del texto:\n",
    "\n",
    "pangrama[3]"
   ]
  },
  {
   "cell_type": "code",
   "execution_count": 36,
   "metadata": {},
   "outputs": [
    {
     "data": {
      "text/plain": [
       "' '"
      ]
     },
     "execution_count": 36,
     "metadata": {},
     "output_type": "execute_result"
    }
   ],
   "source": [
    "# En un texto, los espacios en blanco también cuentan como elementos indexados:\n",
    "pangrama[2]"
   ]
  },
  {
   "cell_type": "code",
   "execution_count": 47,
   "metadata": {},
   "outputs": [
    {
     "data": {
      "text/plain": [
       "'El'"
      ]
     },
     "execution_count": 47,
     "metadata": {},
     "output_type": "execute_result"
    }
   ],
   "source": [
    "# Para traer varios elementos de un arreglo de datos solo hace falta escribir dos puntos\n",
    "\n",
    "pangrama[0:2]"
   ]
  },
  {
   "cell_type": "code",
   "execution_count": 48,
   "metadata": {},
   "outputs": [
    {
     "data": {
      "text/plain": [
       "'El veloz'"
      ]
     },
     "execution_count": 48,
     "metadata": {},
     "output_type": "execute_result"
    }
   ],
   "source": [
    "# El segundo número no es indexado, el segundo número indica cuantos valores se van a traer durante el Slice:\n",
    "pangrama[0:8]"
   ]
  },
  {
   "cell_type": "code",
   "execution_count": 51,
   "metadata": {},
   "outputs": [
    {
     "data": {
      "text/plain": [
       "'murciélago'"
      ]
     },
     "execution_count": 51,
     "metadata": {},
     "output_type": "execute_result"
    }
   ],
   "source": [
    "# Para cortar una sección intermedia, hay que marcar el valor indexado inicial y la posicion ordinal final:\n",
    "pangrama[9:19]"
   ]
  },
  {
   "cell_type": "code",
   "execution_count": 42,
   "metadata": {},
   "outputs": [
    {
     "data": {
      "text/plain": [
       "'Manzanas'"
      ]
     },
     "execution_count": 42,
     "metadata": {},
     "output_type": "execute_result"
    }
   ],
   "source": [
    "# Lo mismo ocurre con las listas:\n",
    "frutas[0]"
   ]
  },
  {
   "cell_type": "code",
   "execution_count": null,
   "metadata": {},
   "outputs": [],
   "source": [
    "frutas[4]"
   ]
  },
  {
   "cell_type": "code",
   "execution_count": null,
   "metadata": {},
   "outputs": [],
   "source": [
    "len(frutas)"
   ]
  },
  {
   "cell_type": "code",
   "execution_count": null,
   "metadata": {},
   "outputs": [],
   "source": [
    "frutas[3]"
   ]
  },
  {
   "cell_type": "code",
   "execution_count": null,
   "metadata": {},
   "outputs": [],
   "source": [
    "# Usar números negativos implica empezar a contar desde el final, como el cero negativo no existe\n",
    "# el primer valor negativo que se puede usar es el -1:\n",
    "\n",
    "frutas[-1]"
   ]
  },
  {
   "cell_type": "code",
   "execution_count": null,
   "metadata": {},
   "outputs": [],
   "source": [
    "frutas[-2]"
   ]
  },
  {
   "cell_type": "code",
   "execution_count": null,
   "metadata": {},
   "outputs": [],
   "source": [
    "frutas[0:2]"
   ]
  },
  {
   "cell_type": "code",
   "execution_count": 52,
   "metadata": {},
   "outputs": [
    {
     "data": {
      "text/plain": [
       "'Man'"
      ]
     },
     "execution_count": 52,
     "metadata": {},
     "output_type": "execute_result"
    }
   ],
   "source": [
    "# Es posible encadenar 2 cortes, en el siguiente ejemplo sustraemos la palabra Manzanas,\n",
    "# y mediante un segundo corte sustraemos la palabra Man\n",
    "\n",
    "frutas[0][0:3]"
   ]
  },
  {
   "cell_type": "markdown",
   "metadata": {},
   "source": [
    "## Estructuras de control de flujo"
   ]
  },
  {
   "cell_type": "code",
   "execution_count": null,
   "metadata": {},
   "outputs": [],
   "source": [
    "# If es una toma de decisión que se activa mediante el uso de operaciones lógicas:\n",
    "\n",
    "if frutas[1]==\"Manzanas\":\n",
    "    print(\"Que rica fruta\")\n",
    "else:\n",
    "    print(\"Esa fruta no me gusta\")"
   ]
  },
  {
   "cell_type": "code",
   "execution_count": null,
   "metadata": {},
   "outputs": [],
   "source": [
    "# Se pueden usar varios If, siempre y cuando formen parte de la misma decisión.\n",
    "# Las nuevas opciones se nombrarán como Elif:\n",
    "\n",
    "mes=input(\"Dame el mes en el que naciste:\")\n",
    "\n",
    "if mes==\"Diciembre\":\n",
    "    print(\"Naciste en el mes de la Navidad\")\n",
    "    print(\"Hola mundo\")\n",
    "elif mes==\"Marzo\":\n",
    "    print(\"Naciste en el mes de la primavera\")\n",
    "elif mes==\"Octubre\":\n",
    "    print(\"Que miedo, naciste en Octubre\")\n",
    "else:\n",
    "    print(\"Naciste en un mes que no se celebra la Navidad\")"
   ]
  },
  {
   "cell_type": "code",
   "execution_count": null,
   "metadata": {},
   "outputs": [],
   "source": [
    "# El ciclo for nos permmite ejecutar una actividad un número definido de ocasiones\n",
    "for n in range(10):\n",
    "    print(\"Hola mundo!\")"
   ]
  },
  {
   "cell_type": "code",
   "execution_count": null,
   "metadata": {},
   "outputs": [],
   "source": [
    "frutas"
   ]
  },
  {
   "cell_type": "code",
   "execution_count": null,
   "metadata": {},
   "outputs": [],
   "source": [
    "# En Python, el ciclo for es polimórfico y se adapta al elemento iterador que le pasemos:\n",
    "for letra_fruta in frutas[0]:\n",
    "    print(letra_fruta)"
   ]
  },
  {
   "cell_type": "code",
   "execution_count": null,
   "metadata": {},
   "outputs": [],
   "source": [
    "puntos_cardinales=(\"Norte\", \"Sur\", \"Este\", \"Oeste\")"
   ]
  },
  {
   "cell_type": "code",
   "execution_count": null,
   "metadata": {},
   "outputs": [],
   "source": [
    "puntos_cardinales[0][0]"
   ]
  },
  {
   "cell_type": "code",
   "execution_count": null,
   "metadata": {},
   "outputs": [],
   "source": [
    "for punto in puntos_cardinales:\n",
    "    print(punto+ \":\\t\" + punto[0])"
   ]
  },
  {
   "cell_type": "code",
   "execution_count": null,
   "metadata": {},
   "outputs": [],
   "source": [
    "# Un ciclo while al contrario del for, no está definido, y se ejecutará hasta que la condición\n",
    "# lógica se cumpla:\n",
    "\n",
    "while True:\n",
    "    contrasena=\"Hola\"\n",
    "    password=input(\"Dame una contraseña:\")\n",
    "    if password==contrasena:\n",
    "        break"
   ]
  },
  {
   "cell_type": "code",
   "execution_count": null,
   "metadata": {},
   "outputs": [],
   "source": []
  }
 ],
 "metadata": {
  "kernelspec": {
   "display_name": "Python 3",
   "language": "python",
   "name": "python3"
  },
  "language_info": {
   "codemirror_mode": {
    "name": "ipython",
    "version": 3
   },
   "file_extension": ".py",
   "mimetype": "text/x-python",
   "name": "python",
   "nbconvert_exporter": "python",
   "pygments_lexer": "ipython3",
   "version": "3.7.6"
  }
 },
 "nbformat": 4,
 "nbformat_minor": 4
}
